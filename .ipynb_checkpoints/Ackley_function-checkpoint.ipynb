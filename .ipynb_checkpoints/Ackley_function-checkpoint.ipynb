{
 "cells": [
  {
   "cell_type": "markdown",
   "metadata": {},
   "source": [
    "# Ackley Function"
   ]
  },
  {
   "cell_type": "code",
   "execution_count": 5,
   "metadata": {},
   "outputs": [],
   "source": [
    "%load_ext autoreload\n",
    "%autoreload 2\n",
    "\n",
    "import numpy as np\n",
    "import numpy.linalg as ln\n",
    "import scipy as sp\n",
    "import scipy.optimize\n",
    "import matplotlib.pyplot as plt\n",
    "from optimizador_BFGS import *"
   ]
  },
  {
   "cell_type": "markdown",
   "metadata": {},
   "source": [
    "A coninuación de muestra la definición de la función de Ackley, tomada de [www.sfu.ca](https://www.sfu.ca/~ssurjano/ackley.html)\n",
    "\n",
    "<img src=\"./images/Ackley.PNG\">\n"
   ]
  },
  {
   "cell_type": "markdown",
   "metadata": {},
   "source": [
    "Los valores recomnedador para usar son:  a=20, b=0.2, c = $2\\pi$ y d = numero de variables\n",
    "\n",
    "La función usualmente es evaluada en los hiper cubos limitados por $x_i \\epsilon [-32.768, 32.768]$ aunque se puede restribir a un dominio más pequeño\n",
    "\n",
    "El mínimo global es:\n",
    "\n",
    "$f(x^*)=0$, en $x^* = (0,...,0)$"
   ]
  },
  {
   "cell_type": "markdown",
   "metadata": {},
   "source": [
    "## Para el caso de 2 dimensiones"
   ]
  },
  {
   "cell_type": "code",
   "execution_count": 7,
   "metadata": {},
   "outputs": [],
   "source": [
    "#Definición de la función Ackley\n",
    "def f_ackley(x):\n",
    "    \"\"\"\n",
    "    x es un array\n",
    "    \"\"\"\n",
    "    return -20 * np.exp(-0.2*np.sqrt(0.5*(x[0]**2 + x[1]**2)))\\\n",
    "- np.exp(0.5*(np.cos(2*np.pi*x[0]) + np.cos(2*np.pi*x[1]))) + 20 + np.exp(1)\n",
    "    "
   ]
  },
  {
   "cell_type": "code",
   "execution_count": 10,
   "metadata": {},
   "outputs": [
    {
     "name": "stdout",
     "output_type": "stream",
     "text": [
      "3.6253849384403627\n"
     ]
    }
   ],
   "source": [
    "#ejemplo de evaluacion de la funcion Ackley en 2 dimensiones en el punto (1,1)\n",
    "print (f_ackley([1,1]))"
   ]
  },
  {
   "cell_type": "code",
   "execution_count": null,
   "metadata": {},
   "outputs": [],
   "source": [
    "bfgs_method(f_ackley, fprime, x0, maxiter=None, epsi=10e-3)"
   ]
  }
 ],
 "metadata": {
  "kernelspec": {
   "display_name": "Python 3",
   "language": "python",
   "name": "python3"
  },
  "language_info": {
   "codemirror_mode": {
    "name": "ipython",
    "version": 3
   },
   "file_extension": ".py",
   "mimetype": "text/x-python",
   "name": "python",
   "nbconvert_exporter": "python",
   "pygments_lexer": "ipython3",
   "version": "3.7.3"
  }
 },
 "nbformat": 4,
 "nbformat_minor": 4
}
