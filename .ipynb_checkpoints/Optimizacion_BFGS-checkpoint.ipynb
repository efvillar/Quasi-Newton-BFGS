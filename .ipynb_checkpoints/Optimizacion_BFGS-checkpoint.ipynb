{
 "cells": [
  {
   "cell_type": "markdown",
   "metadata": {},
   "source": [
    "# TAREA DE PROGRAMACIÓN No. 1"
   ]
  },
  {
   "cell_type": "markdown",
   "metadata": {},
   "source": [
    "## Computación evolutiva y optimización heurística - segundo semestre 2020\n",
    "## Universidad Nacional de Colombia - Sede Medellín\n",
    "### Profesora: Eddy ---\n",
    "\n",
    "### Alumnos\n",
    "- Edwin Fernando Villarraga Ossa\n",
    "-  Santiago Giraldo Escobar\n",
    "\n",
    "Noviembre de 2020\n"
   ]
  },
  {
   "cell_type": "markdown",
   "metadata": {},
   "source": [
    "## OBJETIVO\n",
    "Utilizando una impelmentación del método de optimización Quasi-Newton de Broyden - Fletcher - Golford - Shanno (BFGS) en Python, se optimizarán 5 funciones para evaluar la capacidad de convergencia del método"
   ]
  },
  {
   "cell_type": "markdown",
   "metadata": {},
   "source": [
    "## 1. Descripción del método BFGS"
   ]
  },
  {
   "cell_type": "markdown",
   "metadata": {},
   "source": [
    "El método BFGS pertenece al grupo de métodos de optimización denominados Quasi-Newton, estos métodos buscan eliminar algunas de las debilidades del método de Newton de Optimización, como son (Chandra, 2009):\n",
    "\n",
    "1. Se elimina la necesidad de calcular la matriz Hessiana\n",
    "2. Se ilimina la ncesidad de invertir la matriz Hessiana de segundas derivadas. Es posible que la matriz H no sea invertible.\n",
    "3. El método de Newton es costoso en terminos computacionales\n",
    "4. El método de Newton exige que la matriz H sea positiva definida.  La violación de este supuesto elimina la garantía de convergencia.\n",
    "\n",
    "Por lo tanto los métodos Quasi-Newton buscan la modificación de la matriz Hessiana por una aproximación de una matriz que debe cumplir algunas condiciones como que sea definida positiva pero que es más fácil de calcular que H.\n"
   ]
  },
  {
   "cell_type": "markdown",
   "metadata": {},
   "source": [
    "### Método de Newton\n",
    "\n",
    "El método de Newton para encontrar raíces consiste en encontrar los puntos  $X \\epsilon R^n$  tales que $\\nabla f(X) = 0$\n",
    "\n",
    "Una aproximación de segundo orden para encontrar estos puntos de forma iterativa es:\n",
    "\n",
    "$X^{\\mathrm{(k+1)}} = X^{\\mathrm{(k)}}-(H_f(X^{\\mathrm{(k)}}))^{\\mathrm{-1}}\\nabla f(X^{\\mathrm{(k)}})$\n",
    "\n",
    "Un ejemplo de la obtención de esta formula de recurrencia se puede encontrar en la página 341 de Chandra.\n",
    "\n",
    "\n",
    "### Métodos Quasi-Newton BFGS\n",
    "\n",
    "El método de BFGS es similar al método de lineserach de Newthon pero se utiliza una aproximación de la matriz Hessiana en el punto k denominada $B_k$ y en lugar de calcular una nueva matriz $B_k$ en cada iteración, se le realiza una actualziación.\n",
    "\n",
    "$B_{k+1} = B_k + \"algo\"$\n",
    "\n",
    "En el proceso iterativo es comun inicial con una matriz $B_0 = I_n$ para luaego continuar con las iteraciones.  \n",
    "\n",
    "La actualización de $B_k$ deber ser tal que se mantenga la relación:  $x_{k+1}-x_k=b_{k+1}(g_{k+1}-g_k)$ y que se mantenga definita positiva"
   ]
  },
  {
   "cell_type": "markdown",
   "metadata": {},
   "source": [
    "Existen diferentes métodos de actualizar a $b_k$ y se denominan actualizaciones de rango 1 y 2 (Gramfort).\n",
    "\n",
    "\n",
    "\n",
    "\n",
    "#### Fórmula de Broyden\n",
    "fórmula de actualización de rango1\n",
    "\n",
    "$B_{k+1} = B_k + \\LARGE \\frac{(s_k-B_ky_k)(s_k-B_ky_k)^T}{(s_k-B_ky_k)^Ty_k}$\n",
    "\n",
    "donde:\n",
    "\n",
    "\n",
    "$y_k = g_{k+1}-g_k = \\nabla f(x_{k+1}) - \\nabla f(x_k))$\n",
    "\n",
    "$s_k = x_{k+1}-x_k$ \n",
    "\n",
    "$g_k$ es el gradiente de la función en el punto k\n",
    "\n",
    "$y_k$ converge en menos de n iteración hacia la inversa de la Hessiana de f.  (ver prueba en Gramfort)\n",
    "\n",
    "\n",
    "\n",
    "\n",
    "\n",
    "#### Fórmula de Davidon, Fletcher y Powell (DFP)\n",
    "\n",
    "\n",
    "Es una actualización de rango 2\n",
    "\n",
    "\n",
    "$B_{k+1} = B_k + \\LARGE \\frac{s_ks_k^T}{s_k^Ty_k} -  \\frac{B_ky_ky_k^TB_k}{y_k^TB_ky_k} $\n",
    "\n",
    "\n",
    "### Fórmula de Broyden-Fletcher-Goldfarb-Shanno\n",
    "Es una actualización de rango 2 que se deriva de la formula DFP intercambiando los roles de $s_k$ y $y_k$\n",
    "\n",
    "$H_{k+1} = H_k + \\LARGE \\frac{y_ky_k^T}{y_k^Ts_k} -  \\frac{H_ks_ks_k^TH_k}{s_k^TH_ky_k} $\n"
   ]
  },
  {
   "cell_type": "markdown",
   "metadata": {},
   "source": [
    "### Pseudo codigo para BFGS\n",
    "\n"
   ]
  },
  {
   "cell_type": "code",
   "execution_count": null,
   "metadata": {},
   "outputs": [],
   "source": []
  },
  {
   "cell_type": "code",
   "execution_count": null,
   "metadata": {},
   "outputs": [],
   "source": []
  },
  {
   "cell_type": "code",
   "execution_count": null,
   "metadata": {},
   "outputs": [],
   "source": []
  },
  {
   "cell_type": "markdown",
   "metadata": {},
   "source": [
    "## 10. Bibliografía"
   ]
  },
  {
   "cell_type": "markdown",
   "metadata": {},
   "source": [
    "- Chandra Suresh, Jayadera y Mehra Aparna.  Numerical Optimization with Applications.  Narosa Publishing House.  2009.  Segunda Edicion.\n",
    "- Nocedal Jorge y Wright Stephen.  Numerical Optimization.  Springer.  2006.  Segunda Edicion.\n",
    "- Butenko Sergiy y Pardalos Panos.  Numerical Methods and Optimizations an Introduction.  Chapman & Hall.  2014.\n",
    "- Gramfort Alexandre.  (Quasi-)Newton methods.    online: http://www.lix.polytechnique.fr/bigdata/mathbigdata/wp-content/uploads/2014/09/notes_quasi_newton.pdf\n"
   ]
  },
  {
   "cell_type": "code",
   "execution_count": null,
   "metadata": {},
   "outputs": [],
   "source": []
  }
 ],
 "metadata": {
  "kernelspec": {
   "display_name": "Python 3",
   "language": "python",
   "name": "python3"
  },
  "language_info": {
   "codemirror_mode": {
    "name": "ipython",
    "version": 3
   },
   "file_extension": ".py",
   "mimetype": "text/x-python",
   "name": "python",
   "nbconvert_exporter": "python",
   "pygments_lexer": "ipython3",
   "version": "3.7.3"
  }
 },
 "nbformat": 4,
 "nbformat_minor": 4
}
