{
 "cells": [
  {
   "cell_type": "markdown",
   "metadata": {},
   "source": [
    "# Función Beale\n",
    "    \n",
    "    \n",
    "![Función Beale](images/beale.png)\n",
    "![Función Beale2](images/beale2.png)\n",
    "    \n",
    "    \n",
    "### Descripción\n",
    "**Dimensiones**: 2\n",
    "\n",
    "La función Beale es multimodal, con picos agúdos en las esquinas del dominio de entrada.\n",
    "\n",
    "**Dominio de entrada:**\n",
    "La función es evaluada usualmente en el cuadrado $x_i$ ∈ [-4.5, 4.5], para todo i = 1, 2.\n",
    "\n",
    "Fuente: http://www.sfu.ca/~ssurjano/beale.html"
   ]
  },
  {
   "cell_type": "code",
   "execution_count": 1,
   "metadata": {},
   "outputs": [],
   "source": [
    "import sympy as sp\n"
   ]
  },
  {
   "cell_type": "raw",
   "metadata": {},
   "source": [
    "f(x)=(1.5 – x1 + x1*x2)² +(2.25 – x1 + x1*x2²)² + (2.625 – x1 + x1*x2³)²"
   ]
  },
  {
   "cell_type": "code",
   "execution_count": 2,
   "metadata": {},
   "outputs": [],
   "source": [
    "v = sp.symbols('x1,x2')"
   ]
  },
  {
   "cell_type": "code",
   "execution_count": 3,
   "metadata": {},
   "outputs": [
    {
     "data": {
      "text/plain": [
       "(x1, x2)"
      ]
     },
     "execution_count": 3,
     "metadata": {},
     "output_type": "execute_result"
    }
   ],
   "source": [
    "v"
   ]
  },
  {
   "cell_type": "code",
   "execution_count": 4,
   "metadata": {},
   "outputs": [
    {
     "data": {
      "text/latex": [
       "$\\displaystyle x_{1}$"
      ],
      "text/plain": [
       "x1"
      ]
     },
     "execution_count": 4,
     "metadata": {},
     "output_type": "execute_result"
    }
   ],
   "source": [
    "v[0]"
   ]
  },
  {
   "cell_type": "code",
   "execution_count": 5,
   "metadata": {},
   "outputs": [
    {
     "data": {
      "text/latex": [
       "$\\displaystyle x_{2}$"
      ],
      "text/plain": [
       "x2"
      ]
     },
     "execution_count": 5,
     "metadata": {},
     "output_type": "execute_result"
    }
   ],
   "source": [
    "v[1]"
   ]
  },
  {
   "cell_type": "code",
   "execution_count": 6,
   "metadata": {},
   "outputs": [],
   "source": [
    "f = (1.5 - v[0] + v[0]*v[1])**2 +(2.25 - v[0]+ v[0]*v[1]**2)**2+(2.625 - v[0] + v[0]*v[1]**3)**2"
   ]
  },
  {
   "cell_type": "code",
   "execution_count": 7,
   "metadata": {},
   "outputs": [
    {
     "data": {
      "text/latex": [
       "$\\displaystyle 2.25 \\left(0.666666666666667 x_{1} x_{2} - 0.666666666666667 x_{1} + 1\\right)^{2} + 5.0625 \\left(0.444444444444444 x_{1} x_{2}^{2} - 0.444444444444444 x_{1} + 1\\right)^{2} + 6.890625 \\left(0.380952380952381 x_{1} x_{2}^{3} - 0.380952380952381 x_{1} + 1\\right)^{2}$"
      ],
      "text/plain": [
       "2.25*(0.666666666666667*x1*x2 - 0.666666666666667*x1 + 1)**2 + 5.0625*(0.444444444444444*x1*x2**2 - 0.444444444444444*x1 + 1)**2 + 6.890625*(0.380952380952381*x1*x2**3 - 0.380952380952381*x1 + 1)**2"
      ]
     },
     "execution_count": 7,
     "metadata": {},
     "output_type": "execute_result"
    }
   ],
   "source": [
    "f"
   ]
  },
  {
   "cell_type": "code",
   "execution_count": 8,
   "metadata": {},
   "outputs": [
    {
     "data": {
      "text/latex": [
       "$\\displaystyle 6.0 x_{1} x_{2}^{2} \\left(x_{2}^{3} - 1\\right) + 4.0 x_{1} x_{2} \\left(x_{2}^{2} - 1\\right) + 2.0 x_{1} x_{2} + 2.0 x_{1} \\left(x_{2} - 1\\right) - 2.0 x_{1} + 15.75 x_{2}^{2} \\left(0.380952380952381 x_{1} x_{2}^{3} - 0.380952380952381 x_{1} + 1\\right) + 9.0 x_{2} \\left(0.444444444444444 x_{1} x_{2}^{2} - 0.444444444444444 x_{1} + 1\\right) + 3.0$"
      ],
      "text/plain": [
       "6.0*x1*x2**2*(x2**3 - 1) + 4.0*x1*x2*(x2**2 - 1) + 2.0*x1*x2 + 2.0*x1*(x2 - 1) - 2.0*x1 + 15.75*x2**2*(0.380952380952381*x1*x2**3 - 0.380952380952381*x1 + 1) + 9.0*x2*(0.444444444444444*x1*x2**2 - 0.444444444444444*x1 + 1) + 3.0"
      ]
     },
     "execution_count": 8,
     "metadata": {},
     "output_type": "execute_result"
    }
   ],
   "source": [
    "sp.diff(f, v[0],v[1])"
   ]
  },
  {
   "cell_type": "code",
   "execution_count": null,
   "metadata": {},
   "outputs": [],
   "source": []
  }
 ],
 "metadata": {
  "kernelspec": {
   "display_name": "Python 3",
   "language": "python",
   "name": "python3"
  },
  "language_info": {
   "codemirror_mode": {
    "name": "ipython",
    "version": 3
   },
   "file_extension": ".py",
   "mimetype": "text/x-python",
   "name": "python",
   "nbconvert_exporter": "python",
   "pygments_lexer": "ipython3",
   "version": "3.7.9"
  }
 },
 "nbformat": 4,
 "nbformat_minor": 4
}
